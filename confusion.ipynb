{
 "cells": [
  {
   "cell_type": "code",
   "execution_count": 13,
   "metadata": {},
   "outputs": [],
   "source": [
    "import os, sys\n",
    "from PIL import Image\n",
    "import random\n",
    "import numpy as np\n",
    "from pathlib import Path"
   ]
  },
  {
   "cell_type": "code",
   "execution_count": 89,
   "metadata": {},
   "outputs": [],
   "source": [
    "#Change path here:\n",
    "path = \"/Users/robertwalter/Desktop/RCI.2/2_MLMI/6_datasets/MontgomerySet_Versions/Version8\"\n",
    "#Change Names of output folder and rebinarized testImage labels here:\n",
    "folder_out = \"/out_image_bin\"\n",
    "folder_testlabels = \"/testMasks_bin\"\n",
    "\n",
    "def calc_singleConfusion(out_array,label_array):\n",
    "    if out_array.size == label_array.size:\n",
    "        \n",
    "        #Confusion Matrix with [tp,fp,tn,fn]\n",
    "        confMatrix = [0] *4\n",
    "        \n",
    "        #print(len(out_array))\n",
    "        #print(len(out_array[0]))\n",
    "        for i in range(len(out_array)):\n",
    "            for j in range(len(out_array[0])):\n",
    "                \n",
    "                if (label_array[i][j] != 0 and label_array[i][j] != 1) or (out_array[i][j] != 0 and out_array[i][j] != 1):\n",
    "                    print(\"Image not binary\")\n",
    "                    return confMatrix\n",
    "                else:   \n",
    "                    #Negatives\n",
    "                    if label_array[i][j] == 0:\n",
    "                        #True-Negatives\n",
    "                        if out_array[i][j] == label_array[i][j]:\n",
    "                            confMatrix[2] += 1\n",
    "                        #False-Negative\n",
    "                        else:\n",
    "                            confMatrix[3] += 1\n",
    "                    #Positives\n",
    "                    elif label_array[i][j] == 1:\n",
    "                        #True-Positives\n",
    "                        if out_array[i][j] == label_array[i][j]:\n",
    "                            confMatrix[0] += 1\n",
    "                        #False-Positives\n",
    "                        else:\n",
    "                            confMatrix[1] += 1\n",
    "\n",
    "    else:\n",
    "        print(\"Image Dimensions dont fit!\")\n",
    "        \n",
    "    return confMatrix\n",
    "        \n",
    "def prepImage(img_name):\n",
    "    img_out = Image.open(path+folder_out+\"/\"+img_name)\n",
    "    img_label = Image.open(path+folder_testlabels+\"/\"+img_name)\n",
    "    \n",
    "    #check patient condition\n",
    "    if img_name.endswith(\"0.png\"):\n",
    "        condFlag = 0\n",
    "    elif img_name.endswith(\"1.png\"):\n",
    "        condFlag = 1   \n",
    "    else:\n",
    "        print(img_name+\" patient condition not clear\")\n",
    "    \n",
    "    arr_out = np.array(img_out)\n",
    "    arr_label = np.array(img_label)\n",
    "    #print(arr_out)\n",
    "    return arr_out, arr_label, condFlag\n",
    "\n",
    "\n",
    "\n",
    "def main():\n",
    "    #Counter [all,normal,abnormal]\n",
    "    counter = [0] *3\n",
    "    #Confusion Matrix 2x2x[all,normal,abnormal]\n",
    "    confMatrix_complete = np.zeros((4,3))\n",
    "\n",
    "    for img in os.listdir(path+folder_out):\n",
    "\n",
    "        if img.endswith(\".png\"): \n",
    "\n",
    "            my_file = Path(path+folder_testlabels+\"/\"+img)\n",
    "            if my_file.is_file():\n",
    "                counter[0] += 1\n",
    "                arr_out, arr_label, condFlag = prepImage(img)\n",
    "                confMatrix = calc_singleConfusion(arr_out, arr_label) \n",
    "                #print(confMatrix)\n",
    "                #all\n",
    "                confMatrix_complete[:,0] += confMatrix\n",
    "                \n",
    "                #normal\n",
    "                if condFlag==0:\n",
    "                    counter[1] +=1\n",
    "                    confMatrix_complete[:,1] += confMatrix\n",
    "                #abnormal\n",
    "                else:\n",
    "                    counter[2] +=1\n",
    "                    confMatrix_complete[:,2] += confMatrix\n",
    "                    \n",
    "                #Averaging                \n",
    " \n",
    "          \n",
    "            else:\n",
    "                print(img+\" Mask does not exist\")\n",
    "                \n",
    "    confMatrix_complete[:,0] = confMatrix_complete[:,0]/counter[0]             \n",
    "    confMatrix_complete[:,1] = confMatrix_complete[:,1]/counter[1]  \n",
    "    confMatrix_complete[:,2] = confMatrix_complete[:,2]/counter[2]\n",
    "    np.set_printoptions(precision=3)\n",
    "    print(\"Confusion Matrix [tp,fp,tn,fn] average over all images ({}): {}\".format(counter[0],confMatrix_complete[:,0]))\n",
    "    print(\"Confusion Matrix [tp,fp,tn,fn] average over normal images ({}): {}\".format(counter[1],confMatrix_complete[:,1]))  \n",
    "    print(\"Confusion Matrix [tp,fp,tn,fn] average over abnormal images ({}): {}\".format(counter[2],confMatrix_complete[:,2]))\n",
    "                \n",
    "                "
   ]
  },
  {
   "cell_type": "code",
   "execution_count": 86,
   "metadata": {},
   "outputs": [
    {
     "name": "stdout",
     "output_type": "stream",
     "text": [
      "Confusion Matrix [tp,fp,tn,fn] average over all images (11): [ 44803.545    201.636 125879.909   1914.909]\n",
      "Confusion Matrix [tp,fp,tn,fn] average over normal images (6): [ 40393.333    212.667 130825.333   1368.667]\n",
      "Confusion Matrix [tp,fp,tn,fn] average over abnormal images (5): [ 50095.8    188.4 119945.4   2570.4]\n"
     ]
    }
   ],
   "source": [
    "main()"
   ]
  },
  {
   "cell_type": "code",
   "execution_count": 91,
   "metadata": {},
   "outputs": [
    {
     "name": "stdout",
     "output_type": "stream",
     "text": [
      "[5, 0, 3, 1]\n"
     ]
    }
   ],
   "source": [
    "#testing\n",
    "arr1 = np.array([[1,0,0],[1,1,1],[1,0,1]])\n",
    "arr2 = np.array([[1,0,0],[1,0,1],[1,0,1]])\n",
    "ConfMat = calc_singleConfusion(arr1,arr2)\n",
    "print(ConfMat)"
   ]
  }
 ],
 "metadata": {
  "kernelspec": {
   "display_name": "Python 3",
   "language": "python",
   "name": "python3"
  },
  "language_info": {
   "codemirror_mode": {
    "name": "ipython",
    "version": 3
   },
   "file_extension": ".py",
   "mimetype": "text/x-python",
   "name": "python",
   "nbconvert_exporter": "python",
   "pygments_lexer": "ipython3",
   "version": "3.6.4"
  }
 },
 "nbformat": 4,
 "nbformat_minor": 2
}
