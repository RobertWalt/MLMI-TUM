{
 "cells": [
  {
   "cell_type": "code",
   "execution_count": 1,
   "metadata": {},
   "outputs": [
    {
     "name": "stdout",
     "output_type": "stream",
     "text": [
      "cannot reduce image for  .ipynb_checkpoints\n",
      "cannot reduce image for  image_processing.ipynb\n",
      "cannot reduce image for  Merge.ipynb\n",
      "cannot reduce image for  Merge2.ipynb\n",
      "cannot reduce image for  resized\n"
     ]
    }
   ],
   "source": [
    "#Just for resizing\n",
    "\n",
    "\n",
    "from PIL import Image\n",
    "import os, sys\n",
    "\n",
    "def resizeImage(infile, output_dir=\"\", size=(305,251)):\n",
    "     outfile = os.path.splitext(infile)[0]+\"_resized\"\n",
    "     extension = os.path.splitext(infile)[1]\n",
    "\n",
    "     #if (cmp(extension, \".jpg\")):\n",
    "        #return\n",
    "\n",
    "     if infile != outfile:\n",
    "        try :\n",
    "            im = Image.open(infile)\n",
    "            if(im.size[0]<im.size[1]):\n",
    "                 size=(251,305)\n",
    "            im.thumbnail(size, Image.ANTIALIAS)\n",
    "            im.save(output_dir+outfile+extension,\"JPEG\")\n",
    "        except IOError:\n",
    "            print (\"cannot reduce image for \", infile)\n",
    "\n",
    "\n",
    "if __name__==\"__main__\":\n",
    "    output_dir = \"resized\"\n",
    "    dir = os.getcwd()\n",
    "    if not os.path.exists(os.path.join(dir,output_dir)):\n",
    "        os.mkdir(output_dir)\n",
    "\n",
    "    for file in os.listdir(dir):\n",
    "        resizeImage(file,output_dir)"
   ]
  },
  {
   "cell_type": "code",
   "execution_count": 7,
   "metadata": {},
   "outputs": [
    {
     "name": "stdout",
     "output_type": "stream",
     "text": [
      "Done\n"
     ]
    }
   ],
   "source": [
    "#For merging and rezising the Masks\n",
    "\n",
    "import os, sys\n",
    "from PIL import Image\n",
    "\n",
    "#Change paths and desired size here\n",
    "path = r\"/Users/robertwalter/Desktop/RCI.2/2_MLMI/6_datasets/MontgomerySet/ManualMask/\"\n",
    "newpath = r\"/Users/robertwalter/Desktop/RCI.2/2_MLMI/6_datasets/MontgomerySet/MergedMask/\"\n",
    "newsize = (305,251)\n",
    "\n",
    "def resizeMasks(im, size):\n",
    "    try :\n",
    "        if(im.size[0]<im.size[1]):\n",
    "             size=(size[1],size[0]) \n",
    "        im.thumbnail(size, Image.ANTIALIAS)\n",
    "    except IOError:\n",
    "        print (\"cannot reduce image for \", im)\n",
    "        \n",
    "    return(im)\n",
    "\n",
    "def mergeMasks(path,pic):\n",
    "\n",
    "    try :\n",
    "        #print(dir_pic)\n",
    "        img_left = Image.open(path+\"leftMask/\"+pic)\n",
    "        img_right = Image.open(path+\"rightMask/\"+pic)\n",
    "\n",
    "\n",
    "        width, height = img_left.size\n",
    "        l_top, l_left, l_right, l_bottom = 0,0,int(width/2),height\n",
    "        r_top, r_left, r_right, r_bottom = int(width/2)+1,0,width,height\n",
    "        img_left = img_left.crop((l_top, l_left, l_right, l_bottom))\n",
    "        img_right = img_right.crop((r_top, r_left, r_right, r_bottom))\n",
    "\n",
    "        img_merged = Image.new('L',(width, height),'black')\n",
    "        img_merged.paste(img_left,(l_top, l_left, l_right, l_bottom))\n",
    "        img_merged.paste(img_right,(r_top, r_left, r_right, r_bottom))\n",
    "        \n",
    "    except IOError:\n",
    "            print (\"cannot merge images for \", pic)\n",
    "            \n",
    "    return(img_merged)\n",
    "\n",
    "if __name__==\"__main__\":\n",
    "    \n",
    "    if not os.path.exists(newpath):\n",
    "        os.makedirs(newpath)\n",
    "\n",
    "    for pic in os.listdir(path+\"leftMask\"):\n",
    "        if pic.endswith(\".png\"): \n",
    "\n",
    "            img_merged = mergeMasks(path,pic)\n",
    "            \n",
    "            img_sized = resizeMasks(img_merged,newsize)   \n",
    "            img_sized.save(newpath+pic)\n",
    "    \n",
    "    print(\"Done\")"
   ]
  },
  {
   "cell_type": "code",
   "execution_count": null,
   "metadata": {},
   "outputs": [],
   "source": []
  },
  {
   "cell_type": "code",
   "execution_count": null,
   "metadata": {},
   "outputs": [],
   "source": []
  },
  {
   "cell_type": "code",
   "execution_count": null,
   "metadata": {},
   "outputs": [],
   "source": []
  }
 ],
 "metadata": {
  "kernelspec": {
   "display_name": "Python 3",
   "language": "python",
   "name": "python3"
  },
  "language_info": {
   "codemirror_mode": {
    "name": "ipython",
    "version": 3
   },
   "file_extension": ".py",
   "mimetype": "text/x-python",
   "name": "python",
   "nbconvert_exporter": "python",
   "pygments_lexer": "ipython3",
   "version": "3.6.4"
  }
 },
 "nbformat": 4,
 "nbformat_minor": 2
}
