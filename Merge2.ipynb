{
 "cells": [
  {
   "cell_type": "code",
   "execution_count": 4,
   "metadata": {},
   "outputs": [
    {
     "name": "stdout",
     "output_type": "stream",
     "text": [
      "Done\n"
     ]
    }
   ],
   "source": [
    "import os\n",
    "from PIL import Image\n",
    "\n",
    "\n",
    "path = r\"/Users/robertwalter/Desktop/RCI.2/2_MLMI/6_datasets/MontgomerySet/ManualMask/\"\n",
    "newpath = r\"/Users/robertwalter/Desktop/RCI.2/2_MLMI/6_datasets/MontgomerySet/MergedMask/\"\n",
    "\n",
    "\n",
    "if not os.path.exists(newpath):\n",
    "    os.makedirs(newpath)\n",
    "\n",
    "for dir_pic in os.listdir(path+\"leftMask\"):\n",
    "    if dir_pic.endswith(\".png\"):\n",
    "        #print(dir_pic)\n",
    "        \n",
    "        img_left = Image.open(path+\"leftMask/\"+dir_pic)\n",
    "        img_right = Image.open(path+\"rightMask/\"+dir_pic)\n",
    "        \n",
    "        width, height = img_left.size\n",
    "        l_top, l_left, l_right, l_bottom = 0,0,int(width/2),height\n",
    "        r_top, r_left, r_right, r_bottom = int(width/2)+1,0,width,height\n",
    "        img_left = img_left.crop((l_top, l_left, l_right, l_bottom))\n",
    "        img_right = img_right.crop((r_top, r_left, r_right, r_bottom))\n",
    "        \n",
    "        img_merged = Image.new('L',(width, height),'black')\n",
    "        img_merged.paste(img_left,(l_top, l_left, l_right, l_bottom))\n",
    "        img_merged.paste(img_right,(r_top, r_left, r_right, r_bottom))\n",
    "        img_merged.save(newpath+dir_pic)\n",
    "        \n",
    "print(\"Done\")\n"
   ]
  },
  {
   "cell_type": "code",
   "execution_count": null,
   "metadata": {},
   "outputs": [],
   "source": []
  }
 ],
 "metadata": {
  "kernelspec": {
   "display_name": "Python 3",
   "language": "python",
   "name": "python3"
  },
  "language_info": {
   "codemirror_mode": {
    "name": "ipython",
    "version": 3
   },
   "file_extension": ".py",
   "mimetype": "text/x-python",
   "name": "python",
   "nbconvert_exporter": "python",
   "pygments_lexer": "ipython3",
   "version": "3.6.4"
  }
 },
 "nbformat": 4,
 "nbformat_minor": 2
}
