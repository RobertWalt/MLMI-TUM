{
 "cells": [
  {
   "cell_type": "code",
   "execution_count": 16,
   "metadata": {},
   "outputs": [
    {
     "name": "stdout",
     "output_type": "stream",
     "text": [
      "Done\n"
     ]
    }
   ],
   "source": [
    "#For merging and rezising the Masks\n",
    "\n",
    "import os, sys\n",
    "from PIL import Image\n",
    "\n",
    "#Change path here\n",
    "path = r\"/Users/robertwalter/Desktop/RCI.2/2_MLMI/6_datasets/MontgomerySet/\"\n",
    "\n",
    "\n",
    "def resizeImg(im):\n",
    "    image_resized = im.resize((480,360), Image.ANTIALIAS)\n",
    "\n",
    "    return image_resized\n",
    "\n",
    "def mergeMasks(path,pic):\n",
    "\n",
    "    try :\n",
    "        img_left = Image.open(path+\"ManualMask/leftMask/\"+pic)\n",
    "        img_right = Image.open(path+\"ManualMask/rightMask/\"+pic)\n",
    "\n",
    "        width, height = img_left.size\n",
    "        l_top, l_left, l_right, l_bottom = 0,0,int(width/2),height\n",
    "        r_top, r_left, r_right, r_bottom = int(width/2)+1,0,width,height\n",
    "        img_left = img_left.crop((l_top, l_left, l_right, l_bottom))\n",
    "        img_right = img_right.crop((r_top, r_left, r_right, r_bottom))\n",
    "\n",
    "        img_new = Image.new('L',(width, height),'black')\n",
    "        img_new.paste(img_left,(l_top, l_left, l_right, l_bottom))\n",
    "        img_new.paste(img_right,(r_top, r_left, r_right, r_bottom))\n",
    "        \n",
    "    except IOError:\n",
    "        print (\"cannot merge images for \", pic)\n",
    "            \n",
    "    return(img_new)\n",
    "\n",
    "\n",
    "if __name__==\"__main__\":\n",
    "    \n",
    "    #Merge and Resize Masks\n",
    "    if not os.path.exists(path+\"/MergedMask/\"):\n",
    "        os.makedirs(path+\"/MergedMask/\")\n",
    "\n",
    "    for pic in os.listdir(path+\"ManualMask/leftMask\"):\n",
    "        if pic.endswith(\".png\"): \n",
    "            img_merged = mergeMasks(path,pic)\n",
    "            img_resized = resizeImg(img_merged)  \n",
    "            img_resized.save(path+\"/MergedMask/\"+pic)\n",
    "    \n",
    "    #Resize CXRs\n",
    "    if not os.path.exists(path+\"/ResizedCXR/\"):\n",
    "        os.makedirs(path+\"/ResizedCXR/\")\n",
    "\n",
    "    for pic in os.listdir(path+\"/CXR_png\"):\n",
    "        if pic.endswith(\".png\"): \n",
    "            img = Image.open(path+\"/CXR_png/\"+pic)\n",
    "            img_resized = resizeImg(img)  \n",
    "            img_resized.save(path+\"/ResizedCXR/\"+pic)\n",
    "    \n",
    "    print(\"Done\")"
   ]
  },
  {
   "cell_type": "code",
   "execution_count": null,
   "metadata": {},
   "outputs": [],
   "source": []
  },
  {
   "cell_type": "code",
   "execution_count": null,
   "metadata": {},
   "outputs": [],
   "source": []
  },
  {
   "cell_type": "code",
   "execution_count": null,
   "metadata": {},
   "outputs": [],
   "source": []
  },
  {
   "cell_type": "code",
   "execution_count": null,
   "metadata": {},
   "outputs": [],
   "source": []
  },
  {
   "cell_type": "code",
   "execution_count": null,
   "metadata": {},
   "outputs": [],
   "source": []
  },
  {
   "cell_type": "code",
   "execution_count": null,
   "metadata": {},
   "outputs": [],
   "source": []
  }
 ],
 "metadata": {
  "kernelspec": {
   "display_name": "Python 3",
   "language": "python",
   "name": "python3"
  },
  "language_info": {
   "codemirror_mode": {
    "name": "ipython",
    "version": 3
   },
   "file_extension": ".py",
   "mimetype": "text/x-python",
   "name": "python",
   "nbconvert_exporter": "python",
   "pygments_lexer": "ipython3",
   "version": "3.6.4"
  }
 },
 "nbformat": 4,
 "nbformat_minor": 2
}
