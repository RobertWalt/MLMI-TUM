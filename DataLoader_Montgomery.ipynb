{
 "cells": [
  {
   "cell_type": "code",
   "execution_count": 5,
   "metadata": {},
   "outputs": [
    {
     "name": "stdout",
     "output_type": "stream",
     "text": [
      "Collecting opencv-python\n",
      "\u001b[?25l  Downloading https://files.pythonhosted.org/packages/0f/52/b268c43b96f309221be763a4870a15bd8609e68f60d029e01b37618b9327/opencv_python-3.4.1.15-cp35-cp35m-macosx_10_6_intel.macosx_10_9_intel.macosx_10_9_x86_64.macosx_10_10_intel.macosx_10_10_x86_64.whl (41.9MB)\n",
      "\u001b[K    100% |████████████████████████████████| 41.9MB 113kB/s ta 0:00:011    84% |███████████████████████████     | 35.4MB 2.1MB/s eta 0:00:04\n",
      "\u001b[?25hRequirement already satisfied: numpy>=1.11.1 in /Users/deepitapai/anaconda3/envs/py35/lib/python3.5/site-packages (from opencv-python) (1.14.3)\n",
      "\u001b[31mdistributed 1.21.8 requires msgpack, which is not installed.\u001b[0m\n",
      "Installing collected packages: opencv-python\n",
      "Successfully installed opencv-python-3.4.1.15\n"
     ]
    }
   ],
   "source": [
    "!pip install opencv-python"
   ]
  },
  {
   "cell_type": "code",
   "execution_count": 16,
   "metadata": {},
   "outputs": [],
   "source": [
    "import matplotlib.pyplot as plt"
   ]
  },
  {
   "cell_type": "code",
   "execution_count": 25,
   "metadata": {},
   "outputs": [],
   "source": [
    "from __future__ import absolute_import\n",
    "from __future__ import print_function\n",
    "import collections\n",
    "import cv2\n",
    "import numpy as np\n",
    "import itertools\n",
    "\n",
    "#from helper import *\n",
    "import os"
   ]
  },
  {
   "cell_type": "code",
   "execution_count": 6,
   "metadata": {},
   "outputs": [],
   "source": [
    "def normalized(rgb):\n",
    "    #return rgb/255.0\n",
    "    norm=np.zeros((rgb.shape[0], rgb.shape[1], 3),np.float32)\n",
    "\n",
    "    b=rgb[:,:,0]\n",
    "    g=rgb[:,:,1]\n",
    "    r=rgb[:,:,2]\n",
    "\n",
    "    norm[:,:,0]=cv2.equalizeHist(b)\n",
    "    norm[:,:,1]=cv2.equalizeHist(g)\n",
    "    norm[:,:,2]=cv2.equalizeHist(r)\n",
    "\n",
    "    return norm\n",
    "\n",
    "def one_hot_it(labels,w,h):\n",
    "    x = np.zeros([w,h,2])\n",
    "    for i in range(w):\n",
    "        for j in range(h):\n",
    "            x[i,j,labels[i][j]]=1\n",
    "    return x"
   ]
  },
  {
   "cell_type": "code",
   "execution_count": 26,
   "metadata": {},
   "outputs": [],
   "source": [
    "# Copy the data to this dir here in the SegNet project /CamVid from here:\n",
    "# https://github.com/alexgkendall/SegNet-Tutorial\n",
    "DataPath = './MontgomerySet_Original/'\n",
    "#data_shape = 360*480\n",
    "data_shape = 224*224\n",
    "\n",
    "\n",
    "def load_data(mode):\n",
    "    data = []\n",
    "    label = []\n",
    "    with open(DataPath + mode +'.txt') as f:\n",
    "        txt = f.readlines()\n",
    "        txt = [line.split(' ') for line in txt]\n",
    "    for i in range(len(txt)):\n",
    "        # data.append(np.rollaxis(normalized(cv2.imread(os.getcwd() + txt[i][0][7:])),2))\n",
    "        # this load cropped images\n",
    "        #data.append(np.rollaxis(normalized(cv2.imread(os.getcwd() + txt[i][0][0:])),2))\n",
    "        data_point=np.rollaxis(normalized(cv2.imread(os.getcwd() + txt[i][0][0:])),2)\n",
    "        label_data = int(txt[i][0][0:].split(\".\")[0][-1])\n",
    "       \n",
    "        data_point = np.expand_dims(data_point, axis=4) \n",
    "        data_point = np.insert(data_point, 1, values=label_data, axis=3)\n",
    "        print(data_point.shape)\n",
    "        data.append(data_point)\n",
    "       # b[:,:,:,1]=800\n",
    "        \n",
    "        print(\"Test\",os.getcwd()+txt[i][0][0:])\n",
    "        #print(\"normalized\",normalized(cv2.imread(os.getcwd() + txt[i][0][0:])))\n",
    "        #label.append(one_hot_it(cv2.imread(os.getcwd() + txt[i][1][0:][:-1])[:,:,0],224,224))\n",
    "       \n",
    "    \n",
    "        #original:label.append(cv2.imread(os.getcwd() + txt[i][1][0:][:-1])[:,:,0])\n",
    "        #print(label[-1].shape)\n",
    "        data_point_label = cv2.imread(os.getcwd() + txt[i][1][0:][:-1])[:,:,0]\n",
    "        #changed\n",
    "        data_point_label = np.expand_dims(data_point_label, axis=3)\n",
    "        data_point_label = np.insert(data_point_label, 1, values=label_data, axis=2)\n",
    "        label.append(data_point_label)\n",
    "        print(data_point_label.shape)\n",
    "        #changed\n",
    "        \n",
    "        print(\"LABEL\",os.getcwd()+txt[i][1][0:][:-1])\n",
    "        #print(set(label[-1]).flatten())\n",
    "        #plt.imshow((np.resize(label[-1], (224,224))))\n",
    "        #print(os.getcwd() + txt[i][1][0:])\n",
    "        #print(os.getcwd() + txt[i][1][0:][:-1])\n",
    "        print('.',end='')\n",
    "    return np.array(data), np.array(label)"
   ]
  },
  {
   "cell_type": "code",
   "execution_count": 32,
   "metadata": {},
   "outputs": [
    {
     "name": "stdout",
     "output_type": "stream",
     "text": [
      "label_shape (5, 50176, 1, 2)\n"
     ]
    }
   ],
   "source": [
    "#print((train_label).shape)\n",
    "print(\"label_shape\",train_label.shape)"
   ]
  },
  {
   "cell_type": "code",
   "execution_count": 31,
   "metadata": {},
   "outputs": [
    {
     "name": "stdout",
     "output_type": "stream",
     "text": [
      "(3, 224, 224, 2)\n",
      "Test /Users/q453991/Downloads/One-Hundred-Layers-Tiramisu-master_1 copy/MontgomerySet_Original/ResizedCXR/MCUCXR_0282_1.png\n",
      "(224, 224, 2)\n",
      "LABEL /Users/q453991/Downloads/One-Hundred-Layers-Tiramisu-master_1 copy/MontgomerySet_Original/MergedMask_annotated/MCUCXR_0282_1.png\n",
      ".(3, 224, 224, 2)\n",
      "Test /Users/q453991/Downloads/One-Hundred-Layers-Tiramisu-master_1 copy/MontgomerySet_Original/ResizedCXR/flipped_MCUCXR_0150_1.png\n",
      "(224, 224, 2)\n",
      "LABEL /Users/q453991/Downloads/One-Hundred-Layers-Tiramisu-master_1 copy/MontgomerySet_Original/MergedMask_annotated/flipped_MCUCXR_0150_1.png\n",
      ".(3, 224, 224, 2)\n",
      "Test /Users/q453991/Downloads/One-Hundred-Layers-Tiramisu-master_1 copy/MontgomerySet_Original/ResizedCXR/saltPepper_MCUCXR_0095_0.png\n",
      "(224, 224, 2)\n",
      "LABEL /Users/q453991/Downloads/One-Hundred-Layers-Tiramisu-master_1 copy/MontgomerySet_Original/MergedMask_annotated/saltPepper_MCUCXR_0095_0.png\n",
      ".(3, 224, 224, 2)\n",
      "Test /Users/q453991/Downloads/One-Hundred-Layers-Tiramisu-master_1 copy/MontgomerySet_Original/ResizedCXR/flipped_MCUCXR_0017_0.png\n",
      "(224, 224, 2)\n",
      "LABEL /Users/q453991/Downloads/One-Hundred-Layers-Tiramisu-master_1 copy/MontgomerySet_Original/MergedMask_annotated/flipped_MCUCXR_0017_0.png\n",
      ".(3, 224, 224, 2)\n",
      "Test /Users/q453991/Downloads/One-Hundred-Layers-Tiramisu-master_1 copy/MontgomerySet_Original/ResizedCXR/gaussianNoise_MCUCXR_0021_0.png\n",
      "(224, 224, 2)\n",
      "LABEL /Users/q453991/Downloads/One-Hundred-Layers-Tiramisu-master_1 copy/MontgomerySet_Original/MergedMask_annotated/gaussianNoise_MCUCXR_0021_0.png\n",
      ".label_shape (5, 50176, 1, 2)\n",
      "(3, 224, 224, 2)\n",
      "Test /Users/q453991/Downloads/One-Hundred-Layers-Tiramisu-master_1 copy/MontgomerySet_Original/ResizedCXR/gaussianNoise_MCUCXR_0058_0.png\n",
      "(224, 224, 2)\n",
      "LABEL /Users/q453991/Downloads/One-Hundred-Layers-Tiramisu-master_1 copy/MontgomerySet_Original/MergedMask_annotated/gaussianNoise_MCUCXR_0058_0.png\n",
      ".(3, 224, 224, 2)\n",
      "Test /Users/q453991/Downloads/One-Hundred-Layers-Tiramisu-master_1 copy/MontgomerySet_Original/ResizedCXR/MCUCXR_0047_0.png\n",
      "(224, 224, 2)\n",
      "LABEL /Users/q453991/Downloads/One-Hundred-Layers-Tiramisu-master_1 copy/MontgomerySet_Original/MergedMask_annotated/MCUCXR_0047_0.png\n",
      ".(3, 224, 224, 2)\n",
      "Test /Users/q453991/Downloads/One-Hundred-Layers-Tiramisu-master_1 copy/MontgomerySet_Original/ResizedCXR/gaussianNoise_MCUCXR_0354_1.png\n",
      "(224, 224, 2)\n",
      "LABEL /Users/q453991/Downloads/One-Hundred-Layers-Tiramisu-master_1 copy/MontgomerySet_Original/MergedMask_annotated/gaussianNoise_MCUCXR_0354_1.png\n",
      ".(3, 224, 224, 2)\n",
      "Test /Users/q453991/Downloads/One-Hundred-Layers-Tiramisu-master_1 copy/MontgomerySet_Original/ResizedCXR/MCUCXR_0289_1.png\n",
      "(224, 224, 2)\n",
      "LABEL /Users/q453991/Downloads/One-Hundred-Layers-Tiramisu-master_1 copy/MontgomerySet_Original/MergedMask_annotated/MCUCXR_0289_1.png\n",
      ".(3, 224, 224, 2)\n",
      "Test /Users/q453991/Downloads/One-Hundred-Layers-Tiramisu-master_1 copy/MontgomerySet_Original/ResizedCXR/gaussianNoise_MCUCXR_0031_0.png\n",
      "(224, 224, 2)\n",
      "LABEL /Users/q453991/Downloads/One-Hundred-Layers-Tiramisu-master_1 copy/MontgomerySet_Original/MergedMask_annotated/gaussianNoise_MCUCXR_0031_0.png\n",
      ".(3, 224, 224, 2)\n",
      "Test /Users/q453991/Downloads/One-Hundred-Layers-Tiramisu-master_1 copy/MontgomerySet_Original/ResizedCXR/gaussianNoise_MCUCXR_0006_0.png\n",
      "(224, 224, 2)\n",
      "LABEL /Users/q453991/Downloads/One-Hundred-Layers-Tiramisu-master_1 copy/MontgomerySet_Original/MergedMask_annotated/gaussianNoise_MCUCXR_0006_0.png\n",
      ".(3, 224, 224, 2)\n",
      "Test /Users/q453991/Downloads/One-Hundred-Layers-Tiramisu-master_1 copy/MontgomerySet_Original/ResizedCXR/gaussianNoise_MCUCXR_0060_0.png\n",
      "(224, 224, 2)\n",
      "LABEL /Users/q453991/Downloads/One-Hundred-Layers-Tiramisu-master_1 copy/MontgomerySet_Original/MergedMask_annotated/gaussianNoise_MCUCXR_0060_0.png\n",
      ".(3, 224, 224, 2)\n",
      "Test /Users/q453991/Downloads/One-Hundred-Layers-Tiramisu-master_1 copy/MontgomerySet_Original/ResizedCXR/MCUCXR_0084_0.png\n",
      "(224, 224, 2)\n",
      "LABEL /Users/q453991/Downloads/One-Hundred-Layers-Tiramisu-master_1 copy/MontgomerySet_Original/MergedMask_annotated/MCUCXR_0084_0.png\n",
      ".(3, 224, 224, 2)\n",
      "Test /Users/q453991/Downloads/One-Hundred-Layers-Tiramisu-master_1 copy/MontgomerySet_Original/ResizedCXR/gaussianNoise_MCUCXR_0195_1.png\n",
      "(224, 224, 2)\n",
      "LABEL /Users/q453991/Downloads/One-Hundred-Layers-Tiramisu-master_1 copy/MontgomerySet_Original/MergedMask_annotated/gaussianNoise_MCUCXR_0195_1.png\n",
      ".(3, 224, 224, 2)\n",
      "Test /Users/q453991/Downloads/One-Hundred-Layers-Tiramisu-master_1 copy/MontgomerySet_Original/ResizedCXR/saltPepper_MCUCXR_0045_0.png\n",
      "(224, 224, 2)\n",
      "LABEL /Users/q453991/Downloads/One-Hundred-Layers-Tiramisu-master_1 copy/MontgomerySet_Original/MergedMask_annotated/saltPepper_MCUCXR_0045_0.png\n",
      "."
     ]
    },
    {
     "name": "stderr",
     "output_type": "stream",
     "text": [
      "/Users/q453991/anaconda3/lib/python3.6/site-packages/ipykernel_launcher.py:21: DeprecationWarning: Both axis > a.ndim and axis < -a.ndim - 1 are deprecated and will raise an AxisError in the future.\n",
      "/Users/q453991/anaconda3/lib/python3.6/site-packages/ipykernel_launcher.py:36: DeprecationWarning: Both axis > a.ndim and axis < -a.ndim - 1 are deprecated and will raise an AxisError in the future.\n"
     ]
    }
   ],
   "source": [
    "train_data, train_label = load_data(\"train-sample\")\n",
    "#print((train_label).shape)\n",
    "#train_label = np.reshape(train_label,(5,data_shape,2))\n",
    "train_label = np.reshape(train_label,(5,224*224,1,2))\n",
    "print(\"label_shape\",train_label.shape)\n",
    "\n",
    "test_data, test_label = load_data(\"test-sample\")\n",
    "#test_label = np.reshape(test_label,(5,data_shape,1))\n",
    "test_label = np.reshape(test_label,(5,224*224,1,2))\n",
    "\n",
    "val_data, val_label = load_data(\"val-sample\")\n",
    "val_label = np.reshape(val_label,(5,224*224,1,2))\n",
    "#val_label = np.reshape(val_label,(5,data_shape,1))\n",
    "\n",
    "\n",
    "\n",
    "#np.save(\"data/train_data_sample_test1\", train_data)\n",
    "#np.save(\"data/train_label_sample\", train_label)\n",
    "\n",
    "#np.save(\"data/test_data_sample\", test_data)\n",
    "#np.save(\"data/test_label_sample\", test_label)\n",
    "\n",
    "# np.save(\"data/val_data_sample\", val_data)\n",
    "# np.save(\"data/val_label_sample\", val_label)\n",
    "\n",
    "# FYI they are:\n",
    "# Sky = [128,128,128]\n",
    "# Building = [128,0,0]\n",
    "# Pole = [192,192,128]\n",
    "# Road_marking = [255,69,0]\n",
    "# Road = [128,64,128]\n",
    "# Pavement = [60,40,222]\n",
    "# Tree = [128,128,0]\n",
    "# SignSymbol = [192,128,128]\n",
    "# Fence = [64,64,128]\n",
    "# Car = [64,0,128]\n",
    "# Pedestrian = [64,64,0]\n",
    "# Bicyclist = [0,128,192]\n",
    "# Unlabelled = [0,0,0]"
   ]
  },
  {
   "cell_type": "code",
   "execution_count": 33,
   "metadata": {},
   "outputs": [],
   "source": [
    "np.save(\"data/train_data_sample\", train_data)\n",
    "np.save(\"data/train_label_sample\", train_label)\n",
    "\n",
    "np.save(\"data/test_data_sample\", test_data)\n",
    "np.save(\"data/test_label_sample\", test_label)\n",
    "\n",
    "np.save(\"data/val_data_sample\", val_data)\n",
    "np.save(\"data/val_label_sample\", val_label)"
   ]
  },
  {
   "cell_type": "code",
   "execution_count": 7,
   "metadata": {},
   "outputs": [
    {
     "data": {
      "text/plain": [
       "{0, 1}"
      ]
     },
     "execution_count": 7,
     "metadata": {},
     "output_type": "execute_result"
    }
   ],
   "source": [
    "im = cv2.imread(os.getcwd() + '/MontgomerySet_Original/MergedMask_annotated/flipped_MCUCXR_0001_0.png')\n",
    "set(im.flatten())"
   ]
  },
  {
   "cell_type": "code",
   "execution_count": 110,
   "metadata": {},
   "outputs": [
    {
     "data": {
      "text/plain": [
       "'/Users/deepitapai/Documents/TUM/MLMI Project/One-Hundred-Layers-Tiramisu-master'"
      ]
     },
     "execution_count": 110,
     "metadata": {},
     "output_type": "execute_result"
    }
   ],
   "source": [
    "/Users/deepitapai/Documents/TUM/MLMI Project/One-Hundred-Layers-Tiramisu-master/MontgomerySet/MergedMask_annotated"
   ]
  },
  {
   "cell_type": "code",
   "execution_count": 124,
   "metadata": {},
   "outputs": [
    {
     "data": {
      "text/plain": [
       "'/Users/deepitapai/Documents/TUM/MLMI Project/One-Hundred-Layers-Tiramisu-master'"
      ]
     },
     "execution_count": 124,
     "metadata": {},
     "output_type": "execute_result"
    }
   ],
   "source": [
    "/Users/deepitapai/Documents/TUM/MLMI Project/One-Hundred-Layers-Tiramisu-master"
   ]
  },
  {
   "cell_type": "code",
   "execution_count": null,
   "metadata": {},
   "outputs": [],
   "source": [
    "/Users/deepitapai/Documents/TUM/MLMI Project/One-Hundred-Layers-Tiramisu-master/MontgomerySet_Original/MergedMask_annotated"
   ]
  },
  {
   "cell_type": "code",
   "execution_count": 1,
   "metadata": {},
   "outputs": [
    {
     "data": {
      "text/plain": [
       "'/Users/deepitapai/Documents/TUM/MLMIProject/One-Hundred-Layers-Tiramisu-master_1 copy'"
      ]
     },
     "execution_count": 1,
     "metadata": {},
     "output_type": "execute_result"
    }
   ],
   "source": []
  },
  {
   "cell_type": "code",
   "execution_count": 15,
   "metadata": {},
   "outputs": [
    {
     "data": {
      "text/plain": [
       "'/Users/deepitapai/Documents/TUM/MLMIProject/One-Hundred-Layers-Tiramisu-master_1 copy'"
      ]
     },
     "execution_count": 15,
     "metadata": {},
     "output_type": "execute_result"
    }
   ],
   "source": [
    "os.getcwd()"
   ]
  },
  {
   "cell_type": "code",
   "execution_count": null,
   "metadata": {},
   "outputs": [],
   "source": []
  }
 ],
 "metadata": {
  "kernelspec": {
   "display_name": "Python 3",
   "language": "python",
   "name": "python3"
  },
  "language_info": {
   "codemirror_mode": {
    "name": "ipython",
    "version": 3
   },
   "file_extension": ".py",
   "mimetype": "text/x-python",
   "name": "python",
   "nbconvert_exporter": "python",
   "pygments_lexer": "ipython3",
   "version": "3.6.4"
  }
 },
 "nbformat": 4,
 "nbformat_minor": 2
}
